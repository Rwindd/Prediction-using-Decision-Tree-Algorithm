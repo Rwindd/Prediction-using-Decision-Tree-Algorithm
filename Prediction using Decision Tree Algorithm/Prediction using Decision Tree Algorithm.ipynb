{
  "cells": [
    {
      "cell_type": "markdown",
      "metadata": {
        "colab_type": "text",
        "id": "view-in-github"
      },
      "source": [
        "<a href=\"https://colab.research.google.com/github/Div-ya18/LGMVIP-Data-Science/blob/main/Prediction%20using%20Decision%20Tree%20Algorithm.ipynb\" target=\"_parent\"><img src=\"https://colab.research.google.com/assets/colab-badge.svg\" alt=\"Open In Colab\"/></a>"
      ]
    },
    {
      "cell_type": "code",
      "execution_count": null,
      "metadata": {
        "id": "tVOL-TLPCkfe"
      },
      "outputs": [],
      "source": [
        "import pandas as pd\n",
        "import matplotlib.pyplot as plt\n",
        "import seaborn as sb\n",
        "from sklearn import datasets\n",
        "from sklearn.model_selection import train_test_split\n",
        "from sklearn.tree import DecisionTreeClassifier\n",
        "from sklearn.metrics import accuracy_score\n",
        "from sklearn.tree import plot_tree\n",
        "from sklearn import tree"
      ]
    },
    {
      "cell_type": "code",
      "execution_count": null,
      "metadata": {
        "colab": {
          "base_uri": "https://localhost:8080/",
          "height": 206
        },
        "id": "ELKRa4S4Ct9l",
        "outputId": "dc3ae7c0-0288-4181-850a-710557c6f49d"
      },
      "outputs": [],
      "source": [
        "data = datasets.load_iris()\n",
        "df = pd.DataFrame(data.data,columns=data.feature_names)\n",
        "df['target'] = data.target\n",
        "df.head()"
      ]
    },
    {
      "cell_type": "code",
      "execution_count": null,
      "metadata": {
        "colab": {
          "base_uri": "https://localhost:8080/"
        },
        "id": "mfjw3ebYCt6c",
        "outputId": "ac694300-8b3e-446e-9f59-029555e17630"
      },
      "outputs": [],
      "source": [
        "# Checking Dimension and its length\n",
        "df.shape"
      ]
    },
    {
      "cell_type": "code",
      "execution_count": null,
      "metadata": {
        "colab": {
          "base_uri": "https://localhost:8080/"
        },
        "id": "wmIdztxOCt4L",
        "outputId": "11861ba7-bc4e-4948-88e1-5c9afe438509"
      },
      "outputs": [],
      "source": [
        "#checking for null values\n",
        "df.isnull().sum()"
      ]
    },
    {
      "cell_type": "code",
      "execution_count": null,
      "metadata": {
        "colab": {
          "base_uri": "https://localhost:8080/"
        },
        "id": "jKFSX7r2Ct2A",
        "outputId": "59be5cbd-39bd-46a5-b6f8-664429ef318d"
      },
      "outputs": [],
      "source": [
        "#showing only target data[Dependent variable]\n",
        "print(df['target'])"
      ]
    },
    {
      "cell_type": "code",
      "execution_count": null,
      "metadata": {
        "colab": {
          "base_uri": "https://localhost:8080/",
          "height": 279
        },
        "id": "qgxTo5WTCtzt",
        "outputId": "22b85dd4-03e5-429e-b880-825cb5ec09c8"
      },
      "outputs": [],
      "source": [
        "sb.countplot(x = 'target', data=df)\n",
        "plt.show()"
      ]
    },
    {
      "cell_type": "code",
      "execution_count": null,
      "metadata": {
        "id": "vp5hEuloCtxu"
      },
      "outputs": [],
      "source": [
        "#spliting data\n",
        "fc = [x for x in df.columns if x!=\"target\"]\n",
        "x = df[fc]\n",
        "y = df[\"target\"]\n",
        "X_train ,X_test,Y_train,Y_test = train_test_split(x,y,random_state=100,test_size=0.20)"
      ]
    },
    {
      "cell_type": "code",
      "execution_count": null,
      "metadata": {
        "colab": {
          "base_uri": "https://localhost:8080/"
        },
        "id": "mCkHjni8Ctvh",
        "outputId": "f9dcab72-62e5-4fe2-9753-726df081b7e5"
      },
      "outputs": [],
      "source": [
        "#dispaly data\n",
        "print(\"X_Train:\",X_train.shape)\n",
        "print(\"X_Test:\",X_test.shape)\n",
        "print(\"Y_Train:\",Y_train.shape)\n",
        "print(\"Y_Test:\",Y_test.shape)"
      ]
    },
    {
      "cell_type": "code",
      "execution_count": null,
      "metadata": {
        "id": "8AjwVfp3Cts6"
      },
      "outputs": [],
      "source": [
        "# Model Creation\n",
        "classifier = DecisionTreeClassifier()\n",
        "\n",
        "# Model Training\n",
        "classifier.fit(X_train, Y_train)\n",
        "\n",
        "# Predicting\n",
        "Y_pred = classifier.predict(X_test)"
      ]
    },
    {
      "cell_type": "code",
      "execution_count": null,
      "metadata": {
        "colab": {
          "base_uri": "https://localhost:8080/",
          "height": 363
        },
        "id": "tIw1PHxwCtqX",
        "outputId": "058c35e7-227f-4fe4-bd7b-9ba0b315e6b9"
      },
      "outputs": [],
      "source": [
        "# Comparing Actual and Predicted\n",
        "newdata = pd.DataFrame({\"Actual\":Y_test,\"Predicted\":Y_pred})\n",
        "newdata.head(10)"
      ]
    },
    {
      "cell_type": "code",
      "execution_count": null,
      "metadata": {
        "colab": {
          "base_uri": "https://localhost:8080/"
        },
        "id": "6Ojb7mD2Ctl5",
        "outputId": "f323e2f7-2181-4e9b-8132-acd39c777098"
      },
      "outputs": [],
      "source": [
        "# Testing the accuracy of model\n",
        "accuracy_score(Y_test,Y_pred)"
      ]
    },
    {
      "cell_type": "code",
      "execution_count": null,
      "metadata": {
        "colab": {
          "base_uri": "https://localhost:8080/",
          "height": 801
        },
        "id": "Sj25TYW7CtiS",
        "outputId": "933ee0f8-d7dd-4c97-cb04-f3d8c8990893"
      },
      "outputs": [],
      "source": [
        "# plotting the classifier tree\n",
        "fn = [\"Sepal length\", \"Sepal width\", \"Petal length\", \"Petal width\"]\n",
        "cn = [\"Setosa\",\"Versicolor\",\"Virginica\"]\n",
        "plt.figure(figsize=(20,10))\n",
        "plot_tree(classifier,feature_names=fn,class_names=cn,filled=True)"
      ]
    },
    {
      "cell_type": "code",
      "execution_count": null,
      "metadata": {
        "colab": {
          "base_uri": "https://localhost:8080/",
          "height": 846
        },
        "id": "xxf2gm_gCtfK",
        "outputId": "9f80863e-f7cb-4a27-f5a4-41558bb6da75"
      },
      "outputs": [],
      "source": [
        "# Final Result for all x and y\n",
        "classifierX = DecisionTreeClassifier().fit(x,y)\n",
        "plt.figure(figsize=(20,10))\n",
        "tree = plot_tree(classifierX,feature_names=fn,class_names=cn,filled=True)"
      ]
    }
  ],
  "metadata": {
    "colab": {
      "authorship_tag": "ABX9TyO6Z38y+S9C8ycbUYtDEJGQ",
      "include_colab_link": true,
      "provenance": []
    },
    "kernelspec": {
      "display_name": "Python 3.9.2 64-bit",
      "language": "python",
      "name": "python3"
    },
    "language_info": {
      "codemirror_mode": {
        "name": "ipython",
        "version": 3
      },
      "file_extension": ".py",
      "mimetype": "text/x-python",
      "name": "python",
      "nbconvert_exporter": "python",
      "pygments_lexer": "ipython3",
      "version": "3.9.2"
    },
    "vscode": {
      "interpreter": {
        "hash": "72c223f2396f54da69b8124e04f90a15e89ea66d343f4e321b7a64344c1a8186"
      }
    }
  },
  "nbformat": 4,
  "nbformat_minor": 0
}
